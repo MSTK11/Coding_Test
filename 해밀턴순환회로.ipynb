{
  "nbformat": 4,
  "nbformat_minor": 0,
  "metadata": {
    "colab": {
      "provenance": [],
      "authorship_tag": "ABX9TyOk+z57cndG2+v2Wn5uuQcq",
      "include_colab_link": true
    },
    "kernelspec": {
      "name": "python3",
      "display_name": "Python 3"
    },
    "language_info": {
      "name": "python"
    }
  },
  "cells": [
    {
      "cell_type": "markdown",
      "metadata": {
        "id": "view-in-github",
        "colab_type": "text"
      },
      "source": [
        "<a href=\"https://colab.research.google.com/github/MSTK11/Coding_Test/blob/main/%ED%95%B4%EB%B0%80%ED%84%B4%EC%88%9C%ED%99%98%ED%9A%8C%EB%A1%9C.ipynb\" target=\"_parent\"><img src=\"https://colab.research.google.com/assets/colab-badge.svg\" alt=\"Open In Colab\"/></a>"
      ]
    },
    {
      "cell_type": "code",
      "execution_count": 15,
      "metadata": {
        "colab": {
          "base_uri": "https://localhost:8080/"
        },
        "id": "hve86x7CXPSC",
        "outputId": "ed35678f-8479-4cb4-efeb-db9107213184"
      },
      "outputs": [
        {
          "name": "stdout",
          "output_type": "stream",
          "text": [
            "5\n",
            "0 14 4 10 20\n",
            "14 0 7 8 7\n",
            "4 5 0 7 16\n",
            "11 7 9 0 2\n",
            "18 7 17 4 0\n"
          ]
        }
      ],
      "source": [
        "n = int(input())\n",
        "graph = [list(map(int, input().split())) for _ in range(n)]"
      ]
    },
    {
      "cell_type": "code",
      "source": [
        "import copy\n",
        "g = copy.deepcopy(graph)\n",
        "print(g)\n"
      ],
      "metadata": {
        "colab": {
          "base_uri": "https://localhost:8080/"
        },
        "id": "SvRA2j4AXskR",
        "outputId": "d383ce4d-6d28-4ff8-e1d3-e99eb347c1fd"
      },
      "execution_count": 16,
      "outputs": [
        {
          "output_type": "stream",
          "name": "stdout",
          "text": [
            "[[0, 14, 4, 10, 20], [14, 0, 7, 8, 7], [4, 5, 0, 7, 16], [11, 7, 9, 0, 2], [18, 7, 17, 4, 0]]\n"
          ]
        }
      ]
    },
    {
      "cell_type": "code",
      "source": [
        "def dfs(depth, s, cnt):\n",
        "  global result\n",
        "  if depth == n:\n",
        "    if g[cnt][0] == 0:\n",
        "      return\n",
        "    if s+g[cnt][0] < result:\n",
        "      result = s+g[cnt][0]\n",
        "      return\n",
        "  if s>result:\n",
        "    return\n",
        "  for i in range(n):\n",
        "    if g[cnt][i]!=0 and visited[i]==0:\n",
        "      visited[i]=1\n",
        "      dfs(depth+1, s+g[cnt][i], i)\n",
        "      visited[i]=0"
      ],
      "metadata": {
        "id": "fqgUyHi7b8D_"
      },
      "execution_count": 17,
      "outputs": []
    },
    {
      "cell_type": "code",
      "source": [
        "visited = [0]*n\n",
        "visited[0] = 1\n",
        "result = 1000000\n",
        "dfs(1, 0, 0)\n",
        "print(result)"
      ],
      "metadata": {
        "colab": {
          "base_uri": "https://localhost:8080/"
        },
        "id": "gJaV_b92dD0N",
        "outputId": "a8039d1b-0156-4771-c651-98dedeffddc0"
      },
      "execution_count": 18,
      "outputs": [
        {
          "output_type": "stream",
          "name": "stdout",
          "text": [
            "30\n"
          ]
        }
      ]
    },
    {
      "cell_type": "code",
      "source": [],
      "metadata": {
        "id": "REsJee3sdOrj"
      },
      "execution_count": null,
      "outputs": []
    }
  ]
}