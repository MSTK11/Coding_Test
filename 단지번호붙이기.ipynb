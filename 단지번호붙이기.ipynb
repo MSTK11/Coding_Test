{
  "nbformat": 4,
  "nbformat_minor": 0,
  "metadata": {
    "colab": {
      "name": "단지번호붙이기.ipynb",
      "provenance": [],
      "authorship_tag": "ABX9TyM0qUXmUFQfhgSdX4xlZT0m",
      "include_colab_link": true
    },
    "kernelspec": {
      "name": "python3",
      "display_name": "Python 3"
    },
    "language_info": {
      "name": "python"
    }
  },
  "cells": [
    {
      "cell_type": "markdown",
      "metadata": {
        "id": "view-in-github",
        "colab_type": "text"
      },
      "source": [
        "<a href=\"https://colab.research.google.com/github/MSTK11/Coding_Test/blob/main/%EB%8B%A8%EC%A7%80%EB%B2%88%ED%98%B8%EB%B6%99%EC%9D%B4%EA%B8%B0.ipynb\" target=\"_parent\"><img src=\"https://colab.research.google.com/assets/colab-badge.svg\" alt=\"Open In Colab\"/></a>"
      ]
    },
    {
      "cell_type": "code",
      "execution_count": 1,
      "metadata": {
        "colab": {
          "base_uri": "https://localhost:8080/"
        },
        "id": "jhaJPoUEGZba",
        "outputId": "3ada43fd-e3c6-432f-974a-86e1213e6984"
      },
      "outputs": [
        {
          "name": "stdout",
          "output_type": "stream",
          "text": [
            "7\n",
            "0110100\n",
            "0110101\n",
            "1110101\n",
            "0000111\n",
            "0100000\n",
            "0111110\n",
            "0111000\n"
          ]
        }
      ],
      "source": [
        "N = int(input())\n",
        "graph = [list(map(int, input())) for _ in range(N)]"
      ]
    },
    {
      "cell_type": "code",
      "source": [
        "import copy\n",
        "graph_1 = copy.deepcopy(graph)"
      ],
      "metadata": {
        "id": "_RXbQyIMIDP6"
      },
      "execution_count": 8,
      "outputs": []
    },
    {
      "cell_type": "code",
      "source": [
        "from collections import deque\n",
        "def bfs(x, y, graph):\n",
        "  q = deque()\n",
        "  q.append([x, y])\n",
        "  graph[x][y] = 0\n",
        "  count = 1\n",
        "  while q:\n",
        "    x, y = q.popleft()\n",
        "    for i in range(4):\n",
        "      nx = x + dx[i]\n",
        "      ny = y + dy[i]\n",
        "      if nx >= 0 and nx < N and ny >= 0 and ny < N and graph[nx][ny] != 0:\n",
        "        q.append([nx, ny])\n",
        "        graph[nx][ny] = 0\n",
        "        count += 1\n",
        "  return count\n"
      ],
      "metadata": {
        "id": "w-PLlWsOGwUa"
      },
      "execution_count": 9,
      "outputs": []
    },
    {
      "cell_type": "code",
      "source": [
        "dx = [-1, 1, 0, 0]\n",
        "dy = [0, 0, -1, 1]\n",
        "danji = 0\n",
        "num = []\n",
        "\n",
        "for i in range(N):\n",
        "  for j in range(N):\n",
        "    if graph_1[i][j]!=0:\n",
        "      count = bfs(i, j, graph_1)\n",
        "      num.append(count)\n",
        "      danji += 1\n",
        "\n",
        "print(danji, *num, sep='\\n')"
      ],
      "metadata": {
        "colab": {
          "base_uri": "https://localhost:8080/"
        },
        "id": "rR4Lg4zfHxHS",
        "outputId": "159ed35b-d892-46cd-fadd-2392cb1470cd"
      },
      "execution_count": 10,
      "outputs": [
        {
          "output_type": "stream",
          "name": "stdout",
          "text": [
            "3\n",
            "7\n",
            "8\n",
            "9\n"
          ]
        }
      ]
    },
    {
      "cell_type": "code",
      "source": [
        ""
      ],
      "metadata": {
        "id": "aCEoxHslIgUo"
      },
      "execution_count": null,
      "outputs": []
    }
  ]
}