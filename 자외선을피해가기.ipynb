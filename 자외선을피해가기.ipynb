{
  "nbformat": 4,
  "nbformat_minor": 0,
  "metadata": {
    "colab": {
      "provenance": [],
      "authorship_tag": "ABX9TyOSLJSXUPFQtb6l/+H/rIP7",
      "include_colab_link": true
    },
    "kernelspec": {
      "name": "python3",
      "display_name": "Python 3"
    },
    "language_info": {
      "name": "python"
    }
  },
  "cells": [
    {
      "cell_type": "markdown",
      "metadata": {
        "id": "view-in-github",
        "colab_type": "text"
      },
      "source": [
        "<a href=\"https://colab.research.google.com/github/MSTK11/Coding_Test/blob/main/%EC%9E%90%EC%99%B8%EC%84%A0%EC%9D%84%ED%94%BC%ED%95%B4%EA%B0%80%EA%B8%B0.ipynb\" target=\"_parent\"><img src=\"https://colab.research.google.com/assets/colab-badge.svg\" alt=\"Open In Colab\"/></a>"
      ]
    },
    {
      "cell_type": "code",
      "execution_count": 3,
      "metadata": {
        "colab": {
          "base_uri": "https://localhost:8080/"
        },
        "id": "_cat6CndLIvF",
        "outputId": "129bee1d-e500-40e0-9da9-ffa61506a3e0"
      },
      "outputs": [
        {
          "name": "stdout",
          "output_type": "stream",
          "text": [
            "3\n",
            "041\n",
            "253\n",
            "620\n"
          ]
        }
      ],
      "source": [
        "n = int(input())\n",
        "m = [list(map(int, input())) for _ in range(n)]"
      ]
    },
    {
      "cell_type": "code",
      "source": [
        "import copy\n",
        "m1 = copy.deepcopy(m)\n",
        "print(m1)"
      ],
      "metadata": {
        "colab": {
          "base_uri": "https://localhost:8080/"
        },
        "id": "rGDCCNaRLfTb",
        "outputId": "3a396594-65e1-4c35-e503-864219b3112f"
      },
      "execution_count": 5,
      "outputs": [
        {
          "output_type": "stream",
          "name": "stdout",
          "text": [
            "[[0, 4, 1], [2, 5, 3], [6, 2, 0]]\n"
          ]
        }
      ]
    },
    {
      "cell_type": "code",
      "source": [
        "def dfs(a, b, s):\n",
        "  global result\n",
        "  if a==n-1 and b==n-1:\n",
        "    if s<result:\n",
        "      result=s\n",
        "      return\n",
        "  if s>result:\n",
        "    return\n",
        "  for i in range(4):\n",
        "    nx = a + dx[i]\n",
        "    ny = b + dy[i]\n",
        "    if nx >=0 and ny>=0 and nx<n and ny<n and visited[nx][ny]==0:\n",
        "      visited[nx][ny]=1\n",
        "      dfs(nx, ny, s+m1[a][b])\n",
        "      visited[nx][ny]=0"
      ],
      "metadata": {
        "id": "d00J3GxtLxnW"
      },
      "execution_count": 18,
      "outputs": []
    },
    {
      "cell_type": "code",
      "source": [
        "dx = [-1, 1, 0, 0]\n",
        "dy = [0, 0, -1, 1]\n",
        "result = 1e9\n",
        "visited = [[0]*n for _ in range(n)]\n",
        "dfs(0,0,m1[0][0])\n",
        "print(result)"
      ],
      "metadata": {
        "colab": {
          "base_uri": "https://localhost:8080/"
        },
        "id": "Og4-8RBuMZPn",
        "outputId": "8d3bfb2f-5482-4e44-b9a9-023bf7459a35"
      },
      "execution_count": 19,
      "outputs": [
        {
          "output_type": "stream",
          "name": "stdout",
          "text": [
            "8\n"
          ]
        }
      ]
    },
    {
      "cell_type": "code",
      "source": [],
      "metadata": {
        "id": "6_LzRRnRMx7c"
      },
      "execution_count": null,
      "outputs": []
    }
  ]
}