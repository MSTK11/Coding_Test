{
  "nbformat": 4,
  "nbformat_minor": 0,
  "metadata": {
    "colab": {
      "name": "더하기.ipynb",
      "provenance": [],
      "authorship_tag": "ABX9TyP8d35/KS9upREzxNXWrZAS",
      "include_colab_link": true
    },
    "kernelspec": {
      "name": "python3",
      "display_name": "Python 3"
    },
    "language_info": {
      "name": "python"
    }
  },
  "cells": [
    {
      "cell_type": "markdown",
      "metadata": {
        "id": "view-in-github",
        "colab_type": "text"
      },
      "source": [
        "<a href=\"https://colab.research.google.com/github/MSTK11/Coding_Test/blob/main/%EB%8D%94%ED%95%98%EA%B8%B0.ipynb\" target=\"_parent\"><img src=\"https://colab.research.google.com/assets/colab-badge.svg\" alt=\"Open In Colab\"/></a>"
      ]
    },
    {
      "cell_type": "code",
      "execution_count": 5,
      "metadata": {
        "id": "gv-5j93OYDLH"
      },
      "outputs": [],
      "source": [
        "def dfs(n, s):\n",
        "  global ans\n",
        "  if s == K:\n",
        "    ans = \"YES\"\n",
        "    return\n",
        "  if s > K:\n",
        "    return\n",
        "  if n == len(num):\n",
        "    return\n",
        "  for i in range(len(num)):\n",
        "    if visited[i] == False:\n",
        "      visited[i] = True\n",
        "      dfs(n + 1, s + num[i])\n",
        "      visited[i] = False"
      ]
    },
    {
      "cell_type": "code",
      "source": [
        "T = int(input())\n",
        "result = []\n",
        "for _ in range(T):\n",
        "  N, K = map(int, input().split())\n",
        "  num = list(map(int, input().split()))\n",
        "  visited = [False] * (N + 1)\n",
        "  ans = 0\n",
        "  dfs(0, 0)\n",
        "  if ans != \"YES\":\n",
        "    ans = \"NO\"\n",
        "  result.append(ans)"
      ],
      "metadata": {
        "colab": {
          "base_uri": "https://localhost:8080/"
        },
        "id": "9Qa8xpnOYO1A",
        "outputId": "0cd43133-b3fe-4d82-f985-d6235bc20126"
      },
      "execution_count": 6,
      "outputs": [
        {
          "name": "stdout",
          "output_type": "stream",
          "text": [
            "2\n",
            "5 19\n",
            "1 2 4 7 10\n",
            "5 25\n",
            "1 2 4 7 10\n"
          ]
        }
      ]
    },
    {
      "cell_type": "code",
      "source": [
        "print(*result,sep='\\n')"
      ],
      "metadata": {
        "colab": {
          "base_uri": "https://localhost:8080/"
        },
        "id": "SCk8iJVYZ24p",
        "outputId": "ab5874db-69a7-40ff-dd96-9a9e2fca2009"
      },
      "execution_count": 8,
      "outputs": [
        {
          "output_type": "stream",
          "name": "stdout",
          "text": [
            "YES\n",
            "NO\n"
          ]
        }
      ]
    },
    {
      "cell_type": "code",
      "source": [
        ""
      ],
      "metadata": {
        "id": "kFflGJoKbH3p"
      },
      "execution_count": null,
      "outputs": []
    }
  ]
}