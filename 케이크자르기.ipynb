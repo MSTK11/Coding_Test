{
  "nbformat": 4,
  "nbformat_minor": 0,
  "metadata": {
    "colab": {
      "provenance": [],
      "authorship_tag": "ABX9TyMD5A4ylgqNky9y3hrwQgdj",
      "include_colab_link": true
    },
    "kernelspec": {
      "name": "python3",
      "display_name": "Python 3"
    },
    "language_info": {
      "name": "python"
    }
  },
  "cells": [
    {
      "cell_type": "markdown",
      "metadata": {
        "id": "view-in-github",
        "colab_type": "text"
      },
      "source": [
        "<a href=\"https://colab.research.google.com/github/MSTK11/Coding_Test/blob/main/%EC%BC%80%EC%9D%B4%ED%81%AC%EC%9E%90%EB%A5%B4%EA%B8%B0.ipynb\" target=\"_parent\"><img src=\"https://colab.research.google.com/assets/colab-badge.svg\" alt=\"Open In Colab\"/></a>"
      ]
    },
    {
      "cell_type": "code",
      "execution_count": 8,
      "metadata": {
        "colab": {
          "base_uri": "https://localhost:8080/"
        },
        "id": "9kK4Igor4p2t",
        "outputId": "2af2fee6-f467-4f3b-aeae-b28823224784"
      },
      "outputs": [
        {
          "name": "stdout",
          "output_type": "stream",
          "text": [
            "23 77\n",
            "79 83\n"
          ]
        }
      ],
      "source": [
        "a, b = map(int, input().split())\n",
        "c, d = map(int, input().split())"
      ]
    },
    {
      "cell_type": "code",
      "source": [
        "if a < b:\n",
        "  x1 = a\n",
        "  x2 = b\n",
        "else:\n",
        "  x1 = b\n",
        "  x2 = a\n",
        "\n",
        "if c < d:\n",
        "  x3 = c\n",
        "  x4 = d\n",
        "else:\n",
        "  x3 = d\n",
        "  x4 = c"
      ],
      "metadata": {
        "id": "2f6U1lpQ5Eyf"
      },
      "execution_count": 9,
      "outputs": []
    },
    {
      "cell_type": "code",
      "source": [
        "print(x1,x2,x3,x4)"
      ],
      "metadata": {
        "colab": {
          "base_uri": "https://localhost:8080/"
        },
        "id": "uppuWp2Q6-nT",
        "outputId": "447efb89-af83-4d59-cb7c-aa0d89e30405"
      },
      "execution_count": 10,
      "outputs": [
        {
          "output_type": "stream",
          "name": "stdout",
          "text": [
            "23 77 79 83\n"
          ]
        }
      ]
    },
    {
      "cell_type": "code",
      "source": [
        "if x2 > x3:\n",
        "  print('cross')\n",
        "else:\n",
        "  print('not cross')"
      ],
      "metadata": {
        "colab": {
          "base_uri": "https://localhost:8080/"
        },
        "id": "TWA4i--x6_x7",
        "outputId": "a72190b5-b847-4e18-ab7d-c658aa7f4298"
      },
      "execution_count": 11,
      "outputs": [
        {
          "output_type": "stream",
          "name": "stdout",
          "text": [
            "not cross\n"
          ]
        }
      ]
    },
    {
      "cell_type": "code",
      "source": [],
      "metadata": {
        "id": "dPjJnhj-7Ta_"
      },
      "execution_count": null,
      "outputs": []
    }
  ]
}