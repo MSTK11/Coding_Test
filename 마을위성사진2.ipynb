{
  "nbformat": 4,
  "nbformat_minor": 0,
  "metadata": {
    "colab": {
      "name": "마을위성사진2.ipynb",
      "provenance": [],
      "authorship_tag": "ABX9TyNv5TwIC0JszN1n7xK6lXcx",
      "include_colab_link": true
    },
    "kernelspec": {
      "name": "python3",
      "display_name": "Python 3"
    },
    "language_info": {
      "name": "python"
    }
  },
  "cells": [
    {
      "cell_type": "markdown",
      "metadata": {
        "id": "view-in-github",
        "colab_type": "text"
      },
      "source": [
        "<a href=\"https://colab.research.google.com/github/MSTK11/Coding_Test/blob/main/%EB%A7%88%EC%9D%84%EC%9C%84%EC%84%B1%EC%82%AC%EC%A7%842.ipynb\" target=\"_parent\"><img src=\"https://colab.research.google.com/assets/colab-badge.svg\" alt=\"Open In Colab\"/></a>"
      ]
    },
    {
      "cell_type": "code",
      "execution_count": 1,
      "metadata": {
        "colab": {
          "base_uri": "https://localhost:8080/"
        },
        "id": "vo-SkhG7Ei_V",
        "outputId": "9c45dbe3-142a-47b4-bbc0-636e4d1b66bd"
      },
      "outputs": [
        {
          "name": "stdout",
          "output_type": "stream",
          "text": [
            "5\n",
            "01010\n",
            "10001\n",
            "01010\n",
            "00100\n",
            "10000\n"
          ]
        }
      ],
      "source": [
        "N = int(input())\n",
        "graph = [list(map(int, input())) for _ in range(N)]"
      ]
    },
    {
      "cell_type": "code",
      "source": [
        "import copy\n",
        "graph_1 = copy.deepcopy(graph)"
      ],
      "metadata": {
        "id": "Y1MuIiYEE2Wj"
      },
      "execution_count": 3,
      "outputs": []
    },
    {
      "cell_type": "code",
      "source": [
        "def dfs(x, y, graph):\n",
        "  graph[x][y] = 0\n",
        "  for i in range(8):\n",
        "    nx = x + dx[i]\n",
        "    ny = y + dy[i]\n",
        "    if nx >=0 and nx < N and ny >= 0 and ny < N and graph[nx][ny] == 1:\n",
        "      dfs(nx, ny, graph)"
      ],
      "metadata": {
        "id": "ZLw-XpxsFAJK"
      },
      "execution_count": 4,
      "outputs": []
    },
    {
      "cell_type": "code",
      "source": [
        "dx = [-1, 1, 0, 0, -1, 1, -1, 1]\n",
        "dy = [0, 0, -1, 1, -1, -1, 1, 1]\n",
        "count = 0\n",
        "\n",
        "for i in range(N):\n",
        "  for j in range(N):\n",
        "    if graph_1[i][j] == 1:\n",
        "      dfs(i, j, graph_1)\n",
        "      count += 1\n",
        "\n",
        "print(count)"
      ],
      "metadata": {
        "colab": {
          "base_uri": "https://localhost:8080/"
        },
        "id": "meY6x82fFk22",
        "outputId": "9faf637d-2999-4e2b-f7b9-a6a9c25a4ec0"
      },
      "execution_count": 5,
      "outputs": [
        {
          "output_type": "stream",
          "name": "stdout",
          "text": [
            "2\n"
          ]
        }
      ]
    },
    {
      "cell_type": "code",
      "source": [
        ""
      ],
      "metadata": {
        "id": "tFHUcM9AGDwr"
      },
      "execution_count": null,
      "outputs": []
    }
  ]
}