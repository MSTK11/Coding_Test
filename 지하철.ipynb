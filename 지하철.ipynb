{
  "nbformat": 4,
  "nbformat_minor": 0,
  "metadata": {
    "colab": {
      "provenance": [],
      "authorship_tag": "ABX9TyPY0hLfBPT+jUC1bl69PZQY",
      "include_colab_link": true
    },
    "kernelspec": {
      "name": "python3",
      "display_name": "Python 3"
    },
    "language_info": {
      "name": "python"
    }
  },
  "cells": [
    {
      "cell_type": "markdown",
      "metadata": {
        "id": "view-in-github",
        "colab_type": "text"
      },
      "source": [
        "<a href=\"https://colab.research.google.com/github/MSTK11/Coding_Test/blob/main/%EC%A7%80%ED%95%98%EC%B2%A0.ipynb\" target=\"_parent\"><img src=\"https://colab.research.google.com/assets/colab-badge.svg\" alt=\"Open In Colab\"/></a>"
      ]
    },
    {
      "cell_type": "code",
      "execution_count": 1,
      "metadata": {
        "colab": {
          "base_uri": "https://localhost:8080/"
        },
        "id": "BMVgVJV0vWyw",
        "outputId": "bdea5a6f-9998-4a2e-bbf9-2383e0a39816"
      },
      "outputs": [
        {
          "name": "stdout",
          "output_type": "stream",
          "text": [
            "5 5\n",
            "0 2 2 5 9\n",
            "2 0 3 4 8\n",
            "2 3 0 7 6\n",
            "5 4 7 0 5\n",
            "9 5 6 5 0\n"
          ]
        }
      ],
      "source": [
        "n, m = map(int, input().split())\n",
        "g = [list(map(int, input().split())) for _ in range(n)]"
      ]
    },
    {
      "cell_type": "code",
      "source": [
        "print(g)"
      ],
      "metadata": {
        "colab": {
          "base_uri": "https://localhost:8080/"
        },
        "id": "_UCRz-YENxWK",
        "outputId": "609e539a-60e6-4639-81db-2e17c4f30257"
      },
      "execution_count": 19,
      "outputs": [
        {
          "output_type": "stream",
          "name": "stdout",
          "text": [
            "[[0, 2, 2, 5, 9], [2, 0, 3, 4, 8], [2, 3, 0, 7, 6], [5, 4, 7, 0, 5], [9, 5, 6, 5, 0]]\n"
          ]
        }
      ]
    },
    {
      "cell_type": "code",
      "source": [
        "INF = int(1e9)\n",
        "d = [INF]*n\n",
        "graph = [[] for _ in range(n)]\n",
        "for i in range(n):\n",
        "  for j in range(n):\n",
        "    if i!=j:\n",
        "      graph[i].append((j, g[i][j]))\n",
        "\n",
        "print(graph)"
      ],
      "metadata": {
        "colab": {
          "base_uri": "https://localhost:8080/"
        },
        "id": "MGSmF6qtN-lj",
        "outputId": "7d5939f5-3a78-4d19-db39-354a96b6586d"
      },
      "execution_count": 24,
      "outputs": [
        {
          "output_type": "stream",
          "name": "stdout",
          "text": [
            "[[(1, 2), (2, 2), (3, 5), (4, 9)], [(0, 2), (2, 3), (3, 4), (4, 8)], [(0, 2), (1, 3), (3, 7), (4, 6)], [(0, 5), (1, 4), (2, 7), (4, 5)], [(0, 9), (1, 5), (2, 6), (3, 5)]]\n"
          ]
        }
      ]
    },
    {
      "cell_type": "code",
      "source": [
        "import heapq\n",
        "def di(start):\n",
        "  q = []\n",
        "  heapq.heappush(q, (0, start))\n",
        "  d[start]=0\n",
        "  while q:\n",
        "    dist, now = heapq.heappop(q)\n",
        "    if d[now]<dist:\n",
        "      continue\n",
        "    for i in graph[now]:\n",
        "      cost = dist + i[1]\n",
        "      if cost < d[i[0]]:\n",
        "        d[i[0]] = cost\n",
        "        heapq.heappush(q, (cost, i[0]))\n",
        "        if i[0] == m-1:\n",
        "          path.append(now+1)\n"
      ],
      "metadata": {
        "id": "Q2oe1rMaOTSZ"
      },
      "execution_count": 25,
      "outputs": []
    },
    {
      "cell_type": "code",
      "source": [
        "path = []\n",
        "di(0)\n",
        "print(d[m-1])\n",
        "print(*path,m)"
      ],
      "metadata": {
        "colab": {
          "base_uri": "https://localhost:8080/"
        },
        "id": "_hsSEfrLPIvO",
        "outputId": "59404fc8-3f01-415b-abff-dad609d07bdb"
      },
      "execution_count": 26,
      "outputs": [
        {
          "output_type": "stream",
          "name": "stdout",
          "text": [
            "8\n",
            "1 3 5\n"
          ]
        }
      ]
    },
    {
      "cell_type": "code",
      "source": [],
      "metadata": {
        "id": "I2ICLNfBPNE4"
      },
      "execution_count": null,
      "outputs": []
    }
  ]
}