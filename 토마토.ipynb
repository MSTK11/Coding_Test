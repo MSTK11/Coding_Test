{
  "nbformat": 4,
  "nbformat_minor": 0,
  "metadata": {
    "colab": {
      "provenance": [],
      "authorship_tag": "ABX9TyNAU0EgQsGaw5okm8DtShql",
      "include_colab_link": true
    },
    "kernelspec": {
      "name": "python3",
      "display_name": "Python 3"
    },
    "language_info": {
      "name": "python"
    }
  },
  "cells": [
    {
      "cell_type": "markdown",
      "metadata": {
        "id": "view-in-github",
        "colab_type": "text"
      },
      "source": [
        "<a href=\"https://colab.research.google.com/github/MSTK11/Coding_Test/blob/main/%ED%86%A0%EB%A7%88%ED%86%A0.ipynb\" target=\"_parent\"><img src=\"https://colab.research.google.com/assets/colab-badge.svg\" alt=\"Open In Colab\"/></a>"
      ]
    },
    {
      "cell_type": "code",
      "execution_count": 21,
      "metadata": {
        "colab": {
          "base_uri": "https://localhost:8080/"
        },
        "id": "1NuB1IyhJx89",
        "outputId": "38ae55af-d4d7-4b16-9694-e68a81bbe35b"
      },
      "outputs": [
        {
          "name": "stdout",
          "output_type": "stream",
          "text": [
            "6 4\n",
            "0 0 -1 0 0 1\n",
            "0 0 -1 0 0 0\n",
            "-1 -1 0 0 0 0\n",
            "0 0 0 0 0 1\n"
          ]
        }
      ],
      "source": [
        "m, n = map(int, input().split())\n",
        "graph = [list(map(int, input().split())) for _ in range(n)]"
      ]
    },
    {
      "cell_type": "code",
      "source": [
        "import copy\n",
        "g = copy.deepcopy(graph)\n",
        "print(g)"
      ],
      "metadata": {
        "colab": {
          "base_uri": "https://localhost:8080/"
        },
        "id": "-svxLAMwMHuW",
        "outputId": "e5ee1dc0-e99a-4b2e-a60a-f1257a977f77"
      },
      "execution_count": 31,
      "outputs": [
        {
          "output_type": "stream",
          "name": "stdout",
          "text": [
            "[[0, 0, -1, 0, 0, 1], [0, 0, -1, 0, 0, 0], [-1, -1, 0, 0, 0, 0], [0, 0, 0, 0, 0, 1]]\n"
          ]
        }
      ]
    },
    {
      "cell_type": "code",
      "source": [
        "from collections import deque\n",
        "def bfs():\n",
        "  q = deque()\n",
        "  for i in range(n):\n",
        "    for j in range(m):\n",
        "      if g[i][j]==1:\n",
        "        q.append([i, j])\n",
        "  while q:\n",
        "    x, y = q.popleft()\n",
        "    for i in range(4):\n",
        "      nx = x + dx[i]\n",
        "      ny = y + dy[i]\n",
        "      if nx>=0 and ny>=0 and nx<n and ny<m and g[nx][ny]==0:\n",
        "        g[nx][ny]+=g[x][y]+1\n",
        "        q.append([nx, ny])\n",
        "\n"
      ],
      "metadata": {
        "id": "2JmPFQAfMZEj"
      },
      "execution_count": 32,
      "outputs": []
    },
    {
      "cell_type": "code",
      "source": [
        "dx = [-1, 1, 0, 0]\n",
        "dy = [0, 0, -1, 1]\n",
        "bfs()\n",
        "\n",
        "print(g)"
      ],
      "metadata": {
        "colab": {
          "base_uri": "https://localhost:8080/"
        },
        "id": "Mjwg25GzOMfo",
        "outputId": "2f970d57-ae37-4f03-f8ae-b9ba5862452b"
      },
      "execution_count": 33,
      "outputs": [
        {
          "output_type": "stream",
          "name": "stdout",
          "text": [
            "[[0, 0, -1, 3, 2, 1], [0, 0, -1, 4, 3, 2], [-1, -1, 5, 4, 3, 2], [6, 5, 4, 3, 2, 1]]\n"
          ]
        }
      ]
    },
    {
      "cell_type": "code",
      "source": [
        "ans = 0\n",
        "graph_1 = []\n",
        "g_1 = []\n",
        "for i in range(n):\n",
        "  for j in range(m):\n",
        "    graph_1.append(graph[i][j])\n",
        "    g_1.append(g[i][j])\n",
        "\n",
        "if graph_1.count(0)==0:\n",
        "  ans = 0\n",
        "elif g_1.count(0)>=1:\n",
        "  ans = -1\n",
        "else:\n",
        "  ans = max(g_1)-1\n"
      ],
      "metadata": {
        "id": "tXaFz7L5OV-_"
      },
      "execution_count": 35,
      "outputs": []
    },
    {
      "cell_type": "code",
      "source": [
        "print(ans)"
      ],
      "metadata": {
        "colab": {
          "base_uri": "https://localhost:8080/"
        },
        "id": "lGG2YVZeiiNv",
        "outputId": "f069612d-f7c6-4f7a-9555-af171f67c0db"
      },
      "execution_count": 36,
      "outputs": [
        {
          "output_type": "stream",
          "name": "stdout",
          "text": [
            "-1\n"
          ]
        }
      ]
    },
    {
      "cell_type": "code",
      "source": [],
      "metadata": {
        "id": "-SKeU5mHoUJi"
      },
      "execution_count": null,
      "outputs": []
    }
  ]
}