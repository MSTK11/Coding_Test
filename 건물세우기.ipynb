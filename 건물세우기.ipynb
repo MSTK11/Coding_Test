{
  "nbformat": 4,
  "nbformat_minor": 0,
  "metadata": {
    "colab": {
      "name": "건물세우기.ipynb",
      "provenance": [],
      "authorship_tag": "ABX9TyPiPCX7yg4sHaGywq1qm9ZS",
      "include_colab_link": true
    },
    "kernelspec": {
      "name": "python3",
      "display_name": "Python 3"
    },
    "language_info": {
      "name": "python"
    }
  },
  "cells": [
    {
      "cell_type": "markdown",
      "metadata": {
        "id": "view-in-github",
        "colab_type": "text"
      },
      "source": [
        "<a href=\"https://colab.research.google.com/github/MSTK11/Coding_Test/blob/main/%EA%B1%B4%EB%AC%BC%EC%84%B8%EC%9A%B0%EA%B8%B0.ipynb\" target=\"_parent\"><img src=\"https://colab.research.google.com/assets/colab-badge.svg\" alt=\"Open In Colab\"/></a>"
      ]
    },
    {
      "cell_type": "code",
      "execution_count": 1,
      "metadata": {
        "colab": {
          "base_uri": "https://localhost:8080/"
        },
        "id": "c5EYQ1AU08vx",
        "outputId": "ceb02b73-27ec-44de-ff75-4ed15ac80471"
      },
      "outputs": [
        {
          "name": "stdout",
          "output_type": "stream",
          "text": [
            "4\n",
            "11 12 18 40\n",
            "14 15 13 22\n",
            "11 17 19 23\n",
            "17 14 20 28\n"
          ]
        }
      ],
      "source": [
        "n = int(input())\n",
        "graph = [list(map(int, input().split())) for _ in range(n)]"
      ]
    },
    {
      "cell_type": "code",
      "source": [
        "# print(graph)"
      ],
      "metadata": {
        "colab": {
          "base_uri": "https://localhost:8080/"
        },
        "id": "xcKm7WG81i8j",
        "outputId": "a1a310ea-d39f-47e9-c9ea-012d76c8a894"
      },
      "execution_count": 2,
      "outputs": [
        {
          "output_type": "stream",
          "name": "stdout",
          "text": [
            "[[11, 12, 18, 40], [14, 15, 13, 22], [11, 17, 19, 23], [17, 14, 20, 28]]\n"
          ]
        }
      ]
    },
    {
      "cell_type": "code",
      "source": [
        "def dfs(num, cost):\n",
        "  global result\n",
        "  if cost >= result:\n",
        "    return\n",
        "  if num == n:\n",
        "    result = cost\n",
        "    return\n",
        "  for i in range(1, n + 1):\n",
        "    if visited[i] == False:\n",
        "      visited[i] = True\n",
        "      dfs(num + 1, cost + graph[num][i-1])\n",
        "      visited[i] = False\n"
      ],
      "metadata": {
        "id": "8l7DbSyY1vGb"
      },
      "execution_count": 3,
      "outputs": []
    },
    {
      "cell_type": "code",
      "source": [
        "result = 1e9\n",
        "visited = [False] * (n + 1)\n",
        "dfs(0, 0)\n",
        "print(result)"
      ],
      "metadata": {
        "colab": {
          "base_uri": "https://localhost:8080/"
        },
        "id": "grDZCCAB2CUm",
        "outputId": "df8a2e33-888e-48b6-a186-3663fdb3fff3"
      },
      "execution_count": 4,
      "outputs": [
        {
          "output_type": "stream",
          "name": "stdout",
          "text": [
            "61\n"
          ]
        }
      ]
    },
    {
      "cell_type": "code",
      "source": [
        ""
      ],
      "metadata": {
        "id": "3OGzpmMz3Lwr"
      },
      "execution_count": null,
      "outputs": []
    }
  ]
}