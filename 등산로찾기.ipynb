{
  "nbformat": 4,
  "nbformat_minor": 0,
  "metadata": {
    "colab": {
      "provenance": [],
      "authorship_tag": "ABX9TyPNzUqMMANn5MvPPPLHt12a",
      "include_colab_link": true
    },
    "kernelspec": {
      "name": "python3",
      "display_name": "Python 3"
    },
    "language_info": {
      "name": "python"
    }
  },
  "cells": [
    {
      "cell_type": "markdown",
      "metadata": {
        "id": "view-in-github",
        "colab_type": "text"
      },
      "source": [
        "<a href=\"https://colab.research.google.com/github/MSTK11/Coding_Test/blob/main/%EB%93%B1%EC%82%B0%EB%A1%9C%EC%B0%BE%EA%B8%B0.ipynb\" target=\"_parent\"><img src=\"https://colab.research.google.com/assets/colab-badge.svg\" alt=\"Open In Colab\"/></a>"
      ]
    },
    {
      "cell_type": "code",
      "execution_count": 3,
      "metadata": {
        "colab": {
          "base_uri": "https://localhost:8080/"
        },
        "id": "IbekOAL_iYdO",
        "outputId": "a4426f46-76a0-4372-d5e7-39402da5a998"
      },
      "outputs": [
        {
          "name": "stdout",
          "output_type": "stream",
          "text": [
            "5\n",
            "3 3\n",
            "1 2 4 3 2\n",
            "1 3 5 4 4\n",
            "2 3 6 5 1\n",
            "3 1 4 1 3\n",
            "2 3 3 5 3\n"
          ]
        }
      ],
      "source": [
        "n = int(input())\n",
        "y, x = map(int, input().split())\n",
        "mount = [list(map(int, input().split())) for _ in range(n)]"
      ]
    },
    {
      "cell_type": "code",
      "source": [
        "import copy\n",
        "m = copy.deepcopy(mount)\n",
        "print(m)"
      ],
      "metadata": {
        "colab": {
          "base_uri": "https://localhost:8080/"
        },
        "id": "ngXHJnGPja9r",
        "outputId": "dc8319e1-eba0-4f68-8cb2-50949052a1ae"
      },
      "execution_count": 9,
      "outputs": [
        {
          "output_type": "stream",
          "name": "stdout",
          "text": [
            "[[1, 2, 4, 3, 2], [1, 3, 5, 4, 4], [2, 3, 6, 5, 1], [3, 1, 4, 1, 3], [2, 3, 3, 5, 3]]\n"
          ]
        }
      ]
    },
    {
      "cell_type": "code",
      "source": [
        "def dfs(a, b, s):\n",
        "  global result\n",
        "  if b == y-1 and a == x-1:\n",
        "    if s<result:\n",
        "      result = s\n",
        "      return\n",
        "  if s>result:\n",
        "    return\n",
        "  for i in range(4):\n",
        "    nx = a + dx[i]\n",
        "    ny = b + dy[i]\n",
        "    if nx >= 0 and ny >= 0 and nx<n and ny < n  and visited[nx][ny]==0:\n",
        "      if m[nx][ny] == m[a][b]:\n",
        "        visited[nx][ny]=1\n",
        "        dfs(nx, ny, s)\n",
        "        visited[nx][ny]=0\n",
        "      elif m[nx][ny]>m[a][b]:\n",
        "        visited[nx][ny]=1\n",
        "        dfs(nx, ny, s+(m[nx][ny]-m[a][b])**2)\n",
        "        visited[nx][ny]=0\n",
        "      elif m[nx][ny]<m[a][b]:\n",
        "        visited[nx][ny]=1\n",
        "        dfs(nx, ny, s+m[a][b]-m[nx][ny])\n",
        "        visited[nx][ny]=0"
      ],
      "metadata": {
        "id": "U5byZI1ejwuh"
      },
      "execution_count": 20,
      "outputs": []
    },
    {
      "cell_type": "code",
      "source": [
        "result = 1e9\n",
        "dx = [-1, 1, 0, 0]\n",
        "dy = [0, 0, -1, 1]\n",
        "visited = [[0]*n for _ in range(n)]\n",
        "for i in range(n):\n",
        "  for j in range(n):\n",
        "    if i==0 or j==0 or i==n-1 or j==n-1:\n",
        "      visited[i][j]=1\n",
        "      dfs(i, j, m[i][j]**2)\n",
        "      visited[i][j]=0\n",
        "print(result)\n",
        "# print(visited)"
      ],
      "metadata": {
        "colab": {
          "base_uri": "https://localhost:8080/"
        },
        "id": "05tXwHWInCDs",
        "outputId": "fccf9412-d448-4bd6-cf53-c3b531efaf12"
      },
      "execution_count": 21,
      "outputs": [
        {
          "output_type": "stream",
          "name": "stdout",
          "text": [
            "8\n"
          ]
        }
      ]
    },
    {
      "cell_type": "code",
      "source": [],
      "metadata": {
        "id": "XekwphywpEzs"
      },
      "execution_count": null,
      "outputs": []
    }
  ]
}