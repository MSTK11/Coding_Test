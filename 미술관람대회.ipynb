{
  "nbformat": 4,
  "nbformat_minor": 0,
  "metadata": {
    "colab": {
      "name": "미술관람대회.ipynb",
      "provenance": [],
      "authorship_tag": "ABX9TyOw0EvgBmbLZuP1KZlS68O9",
      "include_colab_link": true
    },
    "kernelspec": {
      "name": "python3",
      "display_name": "Python 3"
    },
    "language_info": {
      "name": "python"
    }
  },
  "cells": [
    {
      "cell_type": "markdown",
      "metadata": {
        "id": "view-in-github",
        "colab_type": "text"
      },
      "source": [
        "<a href=\"https://colab.research.google.com/github/MSTK11/Coding_Test/blob/main/%EB%AF%B8%EC%88%A0%EA%B4%80%EB%9E%8C%EB%8C%80%ED%9A%8C.ipynb\" target=\"_parent\"><img src=\"https://colab.research.google.com/assets/colab-badge.svg\" alt=\"Open In Colab\"/></a>"
      ]
    },
    {
      "cell_type": "code",
      "execution_count": 3,
      "metadata": {
        "colab": {
          "base_uri": "https://localhost:8080/"
        },
        "id": "pQQ7NllcjXa0",
        "outputId": "e6f1614c-1a5c-4095-aea0-043616d45d49"
      },
      "outputs": [
        {
          "name": "stdout",
          "output_type": "stream",
          "text": [
            "5\n",
            "RRRBB\n",
            "GGBBB\n",
            "BBBRR\n",
            "BBRRR\n",
            "RRRRR\n"
          ]
        }
      ],
      "source": [
        "N = int(input())\n",
        "graph = [list(input()) for _ in range(N)]"
      ]
    },
    {
      "cell_type": "code",
      "source": [
        "import copy\n",
        "graph_1 = copy.deepcopy(graph)\n",
        "graph_2 = copy.deepcopy(graph)"
      ],
      "metadata": {
        "id": "POZXASotj6Er"
      },
      "execution_count": 81,
      "outputs": []
    },
    {
      "cell_type": "code",
      "source": [
        "def dfs(x, y, graph, color):\n",
        "  graph[x][y] = 0\n",
        "  for i in range(4):\n",
        "    nx = x + dx[i]\n",
        "    ny = y + dy[i]\n",
        "    if nx >= 0 and nx < N and ny >=0 and ny < N and graph[nx][ny] == color:\n",
        "      dfs(nx, ny, graph, color)\n"
      ],
      "metadata": {
        "id": "R3eB7NyXkDMy"
      },
      "execution_count": 82,
      "outputs": []
    },
    {
      "cell_type": "code",
      "source": [
        "dx = [-1, 1, 0, 0]\n",
        "dy = [0, 0, -1, 1]\n",
        "count_1 = 0\n",
        "count_2 = 0\n",
        "for i in range(N):\n",
        "  for j in range(N):\n",
        "    if graph_1[i][j] == 'R':\n",
        "      dfs(i, j, graph_1, 'R')\n",
        "      count_1 += 1\n",
        "    elif graph_1[i][j] == 'G':\n",
        "      dfs(i, j, graph_1, 'G')\n",
        "      count_1 += 1\n",
        "    elif graph_1[i][j] == 'B':\n",
        "      dfs(i, j, graph_1, 'B')\n",
        "      count_1 += 1\n",
        "\n",
        "for i in range(N):\n",
        "  for j in range(N):\n",
        "      if graph_2[i][j] == 'R':\n",
        "        graph_2[i][j] = 'G'\n",
        "\n",
        "for i in range(N):\n",
        "  for j in range(N):\n",
        "      if graph_2[i][j] == 'G':\n",
        "        dfs(i, j, graph_2, 'G')\n",
        "        count_2 += 1\n",
        "      elif graph_2[i][j] == 'B':\n",
        "        dfs(i, j, graph_2, 'B')\n",
        "        count_2 += 1\n",
        "\n",
        "print(count_1, count_2)\n",
        "\n"
      ],
      "metadata": {
        "colab": {
          "base_uri": "https://localhost:8080/"
        },
        "id": "BtVKM69gkpxA",
        "outputId": "9472ade0-1d30-49b6-8711-4495ceee56c6"
      },
      "execution_count": 83,
      "outputs": [
        {
          "output_type": "stream",
          "name": "stdout",
          "text": [
            "4 3\n"
          ]
        }
      ]
    },
    {
      "cell_type": "code",
      "source": [
        ""
      ],
      "metadata": {
        "id": "oje07oCgnB2P"
      },
      "execution_count": null,
      "outputs": []
    }
  ]
}