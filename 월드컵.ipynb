{
  "nbformat": 4,
  "nbformat_minor": 0,
  "metadata": {
    "colab": {
      "name": "월드컵.ipynb",
      "provenance": [],
      "authorship_tag": "ABX9TyPucqgM/wj4g/yOfPV3TMpB",
      "include_colab_link": true
    },
    "kernelspec": {
      "name": "python3",
      "display_name": "Python 3"
    },
    "language_info": {
      "name": "python"
    }
  },
  "cells": [
    {
      "cell_type": "markdown",
      "metadata": {
        "id": "view-in-github",
        "colab_type": "text"
      },
      "source": [
        "<a href=\"https://colab.research.google.com/github/MSTK11/Coding_Test/blob/main/%EC%9B%94%EB%93%9C%EC%BB%B5.ipynb\" target=\"_parent\"><img src=\"https://colab.research.google.com/assets/colab-badge.svg\" alt=\"Open In Colab\"/></a>"
      ]
    },
    {
      "cell_type": "code",
      "execution_count": 6,
      "metadata": {
        "id": "wonJbkS-3jdy"
      },
      "outputs": [],
      "source": [
        "def dfs(n):\n",
        "  global ans\n",
        "  if n == 15:\n",
        "    if win.count(0) == 6 and draw.count(0) == 6 and lose.count(0) == 6:\n",
        "      ans = 1\n",
        "    return\n",
        "  a, b = games[n]\n",
        "  if win[a] > 0 and lose[b] > 0:\n",
        "    win[a] -= 1\n",
        "    lose[b] -= 1\n",
        "    dfs(n + 1)\n",
        "    win[a] += 1\n",
        "    lose[b] += 1\n",
        "  if win[b] > 0 and lose[a] > 0:\n",
        "    win[b] -= 1\n",
        "    lose[a] -= 1\n",
        "    dfs(n + 1)\n",
        "    win[b] += 1\n",
        "    lose[a] += 1\n",
        "  if draw[a] > 0 and draw[b] > 0:\n",
        "    draw[a] -= 1\n",
        "    draw[b] -= 1\n",
        "    dfs(n + 1)\n",
        "    draw[a] += 1\n",
        "    draw[b] += 1"
      ]
    },
    {
      "cell_type": "code",
      "source": [
        "from itertools import combinations\n",
        "games = list(combinations(range(6), 2))\n",
        "result = []\n",
        "\n",
        "for _ in range(4):\n",
        "  score = list(map(int, input().split()))\n",
        "  win = [score[i] for i in range(0, len(score), 3)]\n",
        "  draw = [score[i] for i in range(1, len(score), 3)]\n",
        "  lose = [score[i] for i in range(2, len(score), 3)]\n",
        "  ans = 0\n",
        "  dfs(0)\n",
        "  result.append(ans)"
      ],
      "metadata": {
        "colab": {
          "base_uri": "https://localhost:8080/"
        },
        "id": "FNvIUhTw412F",
        "outputId": "69476e88-5adf-4f34-fa28-109440d9a1a8"
      },
      "execution_count": 8,
      "outputs": [
        {
          "name": "stdout",
          "output_type": "stream",
          "text": [
            "5 0 0 3 0 2 2 0 3 0 0 5 4 0 1 1 0 4\n",
            "4 1 0 3 0 2 4 1 0 1 1 3 0 0 5 1 1 3\n",
            "5 0 0 4 0 1 2 2 1 2 0 3 1 0 4 0 0 5\n",
            "5 0 0 3 1 1 2 1 2 2 0 3 0 0 5 1 0 4\n"
          ]
        }
      ]
    },
    {
      "cell_type": "code",
      "source": [
        "print(*result)"
      ],
      "metadata": {
        "colab": {
          "base_uri": "https://localhost:8080/"
        },
        "id": "k3DbUHFu5LCT",
        "outputId": "d3675e2b-c686-45fa-97b9-02ae0c72773e"
      },
      "execution_count": 10,
      "outputs": [
        {
          "output_type": "stream",
          "name": "stdout",
          "text": [
            "1 1 0 0\n"
          ]
        }
      ]
    },
    {
      "cell_type": "code",
      "source": [
        ""
      ],
      "metadata": {
        "id": "wOz3Fwv-A2W9"
      },
      "execution_count": null,
      "outputs": []
    }
  ]
}