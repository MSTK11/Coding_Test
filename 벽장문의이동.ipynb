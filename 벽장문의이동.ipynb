{
  "nbformat": 4,
  "nbformat_minor": 0,
  "metadata": {
    "colab": {
      "name": "벽장문의이동.ipynb",
      "provenance": [],
      "authorship_tag": "ABX9TyOO4Cn3MkuMWEemPgR4oykx",
      "include_colab_link": true
    },
    "kernelspec": {
      "name": "python3",
      "display_name": "Python 3"
    },
    "language_info": {
      "name": "python"
    }
  },
  "cells": [
    {
      "cell_type": "markdown",
      "metadata": {
        "id": "view-in-github",
        "colab_type": "text"
      },
      "source": [
        "<a href=\"https://colab.research.google.com/github/MSTK11/Coding_Test/blob/main/%EB%B2%BD%EC%9E%A5%EB%AC%B8%EC%9D%98%EC%9D%B4%EB%8F%99.ipynb\" target=\"_parent\"><img src=\"https://colab.research.google.com/assets/colab-badge.svg\" alt=\"Open In Colab\"/></a>"
      ]
    },
    {
      "cell_type": "code",
      "execution_count": null,
      "metadata": {
        "colab": {
          "base_uri": "https://localhost:8080/"
        },
        "id": "1Mvenrr87li1",
        "outputId": "bc5c0434-f396-43be-ec63-11f3c5b33156"
      },
      "outputs": [
        {
          "name": "stdout",
          "output_type": "stream",
          "text": [
            "7\n",
            "2 5\n",
            "4\n",
            "3\n",
            "1\n",
            "6\n",
            "5\n"
          ]
        }
      ],
      "source": [
        "N = int(input()) # 벽장의 수(2~20)\n",
        "A, B = map(int, input().split()) # 열려있는 두 개의 벽장 수\n",
        "S = int(input()) # 사용할 벽장3들의 순서의 길이(max 20)\n",
        "seq = [int(input()) for _ in range(S)]"
      ]
    },
    {
      "cell_type": "code",
      "source": [
        "print(seq)"
      ],
      "metadata": {
        "colab": {
          "base_uri": "https://localhost:8080/"
        },
        "id": "3-c0T8H-71Eb",
        "outputId": "6d55a879-8297-4aba-f461-5b0a5c570e6e"
      },
      "execution_count": null,
      "outputs": [
        {
          "output_type": "stream",
          "name": "stdout",
          "text": [
            "[3, 1, 6, 5]\n"
          ]
        }
      ]
    },
    {
      "cell_type": "code",
      "source": [
        "def dfs(depth, left, right, path):\n",
        "  global sol\n",
        "  if sol<=path:\n",
        "    return\n",
        "  if depth==S:\n",
        "    sol=path\n",
        "    return\n",
        "  dfs(depth+1, left, seq[depth], path + abs(right - seq[depth]))\n",
        "  dfs(depth+1, seq[depth], right, path + abs(left - seq[depth]))\n"
      ],
      "metadata": {
        "id": "F2WfTC6bZZtk"
      },
      "execution_count": null,
      "outputs": []
    },
    {
      "cell_type": "code",
      "source": [
        "sol = 1e9\n",
        "dfs(0, A, B, 0)\n",
        "print(sol)"
      ],
      "metadata": {
        "colab": {
          "base_uri": "https://localhost:8080/"
        },
        "id": "NAmCETPN75vG",
        "outputId": "6f5f381d-cf91-4a59-f398-88e4485ffc4f"
      },
      "execution_count": null,
      "outputs": [
        {
          "output_type": "stream",
          "name": "stdout",
          "text": [
            "5\n"
          ]
        }
      ]
    },
    {
      "cell_type": "code",
      "source": [
        ""
      ],
      "metadata": {
        "id": "-KAYvpuKIdz9"
      },
      "execution_count": null,
      "outputs": []
    }
  ]
}