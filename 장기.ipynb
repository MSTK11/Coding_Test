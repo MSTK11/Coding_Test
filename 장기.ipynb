{
  "nbformat": 4,
  "nbformat_minor": 0,
  "metadata": {
    "colab": {
      "provenance": [],
      "authorship_tag": "ABX9TyPXqpUM+n1eGKDVlk0dVcEs",
      "include_colab_link": true
    },
    "kernelspec": {
      "name": "python3",
      "display_name": "Python 3"
    },
    "language_info": {
      "name": "python"
    }
  },
  "cells": [
    {
      "cell_type": "markdown",
      "metadata": {
        "id": "view-in-github",
        "colab_type": "text"
      },
      "source": [
        "<a href=\"https://colab.research.google.com/github/MSTK11/Coding_Test/blob/main/%EC%9E%A5%EA%B8%B0.ipynb\" target=\"_parent\"><img src=\"https://colab.research.google.com/assets/colab-badge.svg\" alt=\"Open In Colab\"/></a>"
      ]
    },
    {
      "cell_type": "code",
      "execution_count": 2,
      "metadata": {
        "colab": {
          "base_uri": "https://localhost:8080/"
        },
        "id": "tXbeUlfTMTSh",
        "outputId": "5e3b9f7b-c9f6-4aa0-a34d-650bb6839b76"
      },
      "outputs": [
        {
          "name": "stdout",
          "output_type": "stream",
          "text": [
            "9 9\n",
            "3 5 2 8\n"
          ]
        }
      ],
      "source": [
        "n, m = map(int, input().split())\n",
        "r, c, s, k = map(int, input().split())"
      ]
    },
    {
      "cell_type": "code",
      "source": [
        "def distance(x, y, sm):\n",
        "  global result\n",
        "  if x == s and y == k:\n",
        "    if sm<result:\n",
        "      result = sm\n",
        "      return\n",
        "  if sm>result:\n",
        "    return\n",
        "  for i in range(8):\n",
        "    nx = x + dx[i]\n",
        "    ny = y + dy[i]\n",
        "    if nx >=1 and ny>=1 and nx<=n and ny<=m and visited[nx][ny]==0:\n",
        "      visited[nx][ny]=1\n",
        "      distance(nx, ny, sm+1) \n",
        "      visited[nx][ny]=0"
      ],
      "metadata": {
        "id": "FqQq-JwfMenE"
      },
      "execution_count": 18,
      "outputs": []
    },
    {
      "cell_type": "code",
      "source": [
        "dx = [2, 2, 1, 1, -2, -2 , -1, -1]\n",
        "dy = [1, -1, 2, -2, 1, -1, 2, -2]\n",
        "visited = [[0]*(n+1) for _ in range(m+1)]\n",
        "visited[r][c]=1\n",
        "result = 1e9\n",
        "distance(r, c, 0)\n",
        "print(result)"
      ],
      "metadata": {
        "colab": {
          "base_uri": "https://localhost:8080/"
        },
        "id": "7u5pVbInNvKE",
        "outputId": "41110ab3-386d-48b5-b72e-6d89a72dd685"
      },
      "execution_count": 19,
      "outputs": [
        {
          "output_type": "stream",
          "name": "stdout",
          "text": [
            "2\n"
          ]
        }
      ]
    },
    {
      "cell_type": "code",
      "source": [],
      "metadata": {
        "id": "nt0DMw-KQEG5"
      },
      "execution_count": null,
      "outputs": []
    }
  ]
}